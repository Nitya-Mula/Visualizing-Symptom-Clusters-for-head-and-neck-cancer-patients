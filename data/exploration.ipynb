{
 "cells": [
  {
   "cell_type": "markdown",
   "metadata": {},
   "source": [
    "# Data Exploration\n",
    "\n",
    "\n",
    "## Steps being followed\n",
    "\n",
    "- Dataset dimensions\n",
    "- Dataset head\n",
    "- Dataset basic statistical characteristics\n",
    "- Histogram for each survey of patients grouped by patient ID\n",
    "- Histogram for each survey of patients, group by relative timestamps\n",
    "- Mean & variance for all the charts\n"
   ]
  },
  {
   "cell_type": "markdown",
   "metadata": {},
   "source": [
    "# Data Preparation\n",
    "\n",
    "## Steps being followed\n",
    "\n",
    "- Remove other entries than survey data and timestamps\n",
    "- Principal Component Analysis\n",
    "    - identifies patterns based on correlations between features\n",
    "    - finds maximum variance using fewer dimensions than original data\n",
    "    - will lose some variance and lower predictive power, but fast\n",
    "- Check variance ratio from PCA to normal dataset, to see if PCA is too lossy"
   ]
  },
  {
   "cell_type": "markdown",
   "metadata": {},
   "source": [
    "# Training Models\n",
    "\n",
    "## Steps being followed\n",
    "\n",
    "1) K-Means clustering\n",
    "    - elbow fitting\n",
    "    - scatterplot\n",
    "    - csv export\n",
    "2) Agglomerative clustering\n",
    "    - dendrogram fitting\n",
    "    - scatterplot\n",
    "    - csv export"
   ]
  },
  {
   "cell_type": "markdown",
   "metadata": {},
   "source": [
    "# Conclusion\n",
    "\n",
    "## Steps being followed\n",
    "\n",
    "- [ ] Use PCA on both clustering models\n",
    "- [ ] Compare clustering result with and without PCA\n",
    "- [ ] Define no. of clusters using Elbow and Dendrogram methods\n",
    "- [ ] Compare result of agglomerative and K-means clustering\n",
    "- [ ] Deeper analysis on clustering result"
   ]
  },
  {
   "cell_type": "code",
   "execution_count": 7,
   "metadata": {},
   "outputs": [
    {
     "data": {
      "text/html": "<div>\n<style scoped>\n    .dataframe tbody tr th:only-of-type {\n        vertical-align: middle;\n    }\n\n    .dataframe tbody tr th {\n        vertical-align: top;\n    }\n\n    .dataframe thead th {\n        text-align: right;\n    }\n</style>\n<table border=\"1\" class=\"dataframe\">\n  <thead>\n    <tr style=\"text-align: right;\">\n      <th></th>\n      <th>ID</th>\n      <th>collected.years</th>\n      <th>s1</th>\n      <th>s2</th>\n      <th>s3</th>\n      <th>s4</th>\n      <th>s5</th>\n      <th>s6</th>\n      <th>s7</th>\n      <th>s8</th>\n      <th>...</th>\n      <th>s24</th>\n      <th>s25</th>\n      <th>s26</th>\n      <th>s27</th>\n      <th>s28</th>\n      <th>Age.at.Diagnosis</th>\n      <th>Total.dose</th>\n      <th>Total.fractions</th>\n      <th>Treatment.duration</th>\n      <th>Dose.fraction</th>\n    </tr>\n  </thead>\n  <tbody>\n    <tr>\n      <td>count</td>\n      <td>64.000000</td>\n      <td>60.000000</td>\n      <td>60.000000</td>\n      <td>60.000000</td>\n      <td>60.000000</td>\n      <td>60.000000</td>\n      <td>60.000000</td>\n      <td>60.000000</td>\n      <td>59.000000</td>\n      <td>60.000000</td>\n      <td>...</td>\n      <td>60.000000</td>\n      <td>60.000000</td>\n      <td>60.000000</td>\n      <td>60.000000</td>\n      <td>60.000000</td>\n      <td>64.000000</td>\n      <td>64.000000</td>\n      <td>64.000000</td>\n      <td>64.000000</td>\n      <td>64.000000</td>\n    </tr>\n    <tr>\n      <td>mean</td>\n      <td>5342.843750</td>\n      <td>4.728102</td>\n      <td>1.033333</td>\n      <td>2.083333</td>\n      <td>0.433333</td>\n      <td>1.416667</td>\n      <td>0.983333</td>\n      <td>0.766667</td>\n      <td>1.677966</td>\n      <td>1.216667</td>\n      <td>...</td>\n      <td>0.733333</td>\n      <td>1.083333</td>\n      <td>0.600000</td>\n      <td>0.966667</td>\n      <td>1.083333</td>\n      <td>58.922917</td>\n      <td>68.885625</td>\n      <td>32.875000</td>\n      <td>41.703125</td>\n      <td>2.104341</td>\n    </tr>\n    <tr>\n      <td>std</td>\n      <td>3602.994501</td>\n      <td>2.372271</td>\n      <td>2.154748</td>\n      <td>2.553108</td>\n      <td>1.681068</td>\n      <td>2.294368</td>\n      <td>1.987176</td>\n      <td>1.629876</td>\n      <td>2.388483</td>\n      <td>2.225367</td>\n      <td>...</td>\n      <td>1.494245</td>\n      <td>2.309095</td>\n      <td>1.729113</td>\n      <td>2.154748</td>\n      <td>2.323729</td>\n      <td>9.627325</td>\n      <td>2.173197</td>\n      <td>2.763136</td>\n      <td>3.388494</td>\n      <td>0.112044</td>\n    </tr>\n    <tr>\n      <td>min</td>\n      <td>55.000000</td>\n      <td>0.644444</td>\n      <td>0.000000</td>\n      <td>0.000000</td>\n      <td>0.000000</td>\n      <td>0.000000</td>\n      <td>0.000000</td>\n      <td>0.000000</td>\n      <td>0.000000</td>\n      <td>0.000000</td>\n      <td>...</td>\n      <td>0.000000</td>\n      <td>0.000000</td>\n      <td>0.000000</td>\n      <td>0.000000</td>\n      <td>0.000000</td>\n      <td>41.102778</td>\n      <td>63.000000</td>\n      <td>30.000000</td>\n      <td>34.000000</td>\n      <td>1.800000</td>\n    </tr>\n    <tr>\n      <td>25%</td>\n      <td>2027.250000</td>\n      <td>3.827083</td>\n      <td>0.000000</td>\n      <td>0.000000</td>\n      <td>0.000000</td>\n      <td>0.000000</td>\n      <td>0.000000</td>\n      <td>0.000000</td>\n      <td>0.000000</td>\n      <td>0.000000</td>\n      <td>...</td>\n      <td>0.000000</td>\n      <td>0.000000</td>\n      <td>0.000000</td>\n      <td>0.000000</td>\n      <td>0.000000</td>\n      <td>51.953472</td>\n      <td>66.000000</td>\n      <td>30.000000</td>\n      <td>38.750000</td>\n      <td>2.120000</td>\n    </tr>\n    <tr>\n      <td>50%</td>\n      <td>5054.500000</td>\n      <td>4.233333</td>\n      <td>0.000000</td>\n      <td>1.000000</td>\n      <td>0.000000</td>\n      <td>0.000000</td>\n      <td>0.000000</td>\n      <td>0.000000</td>\n      <td>0.000000</td>\n      <td>0.000000</td>\n      <td>...</td>\n      <td>0.000000</td>\n      <td>0.000000</td>\n      <td>0.000000</td>\n      <td>0.000000</td>\n      <td>0.000000</td>\n      <td>56.491667</td>\n      <td>70.000000</td>\n      <td>33.000000</td>\n      <td>43.000000</td>\n      <td>2.121212</td>\n    </tr>\n    <tr>\n      <td>75%</td>\n      <td>10009.000000</td>\n      <td>4.732639</td>\n      <td>1.000000</td>\n      <td>3.250000</td>\n      <td>0.000000</td>\n      <td>2.250000</td>\n      <td>1.000000</td>\n      <td>0.250000</td>\n      <td>2.500000</td>\n      <td>2.000000</td>\n      <td>...</td>\n      <td>1.000000</td>\n      <td>0.250000</td>\n      <td>0.000000</td>\n      <td>0.000000</td>\n      <td>1.000000</td>\n      <td>64.416667</td>\n      <td>70.000000</td>\n      <td>33.000000</td>\n      <td>44.000000</td>\n      <td>2.200000</td>\n    </tr>\n    <tr>\n      <td>max</td>\n      <td>10159.000000</td>\n      <td>10.836111</td>\n      <td>8.000000</td>\n      <td>8.000000</td>\n      <td>10.000000</td>\n      <td>8.000000</td>\n      <td>10.000000</td>\n      <td>7.000000</td>\n      <td>8.000000</td>\n      <td>9.000000</td>\n      <td>...</td>\n      <td>7.000000</td>\n      <td>10.000000</td>\n      <td>10.000000</td>\n      <td>10.000000</td>\n      <td>10.000000</td>\n      <td>76.594444</td>\n      <td>72.000000</td>\n      <td>40.000000</td>\n      <td>49.000000</td>\n      <td>2.200000</td>\n    </tr>\n  </tbody>\n</table>\n<p>8 rows × 35 columns</p>\n</div>",
      "text/plain": "                 ID  collected.years         s1         s2         s3  \\\ncount     64.000000        60.000000  60.000000  60.000000  60.000000   \nmean    5342.843750         4.728102   1.033333   2.083333   0.433333   \nstd     3602.994501         2.372271   2.154748   2.553108   1.681068   \nmin       55.000000         0.644444   0.000000   0.000000   0.000000   \n25%     2027.250000         3.827083   0.000000   0.000000   0.000000   \n50%     5054.500000         4.233333   0.000000   1.000000   0.000000   \n75%    10009.000000         4.732639   1.000000   3.250000   0.000000   \nmax    10159.000000        10.836111   8.000000   8.000000  10.000000   \n\n              s4         s5         s6         s7         s8  ...        s24  \\\ncount  60.000000  60.000000  60.000000  59.000000  60.000000  ...  60.000000   \nmean    1.416667   0.983333   0.766667   1.677966   1.216667  ...   0.733333   \nstd     2.294368   1.987176   1.629876   2.388483   2.225367  ...   1.494245   \nmin     0.000000   0.000000   0.000000   0.000000   0.000000  ...   0.000000   \n25%     0.000000   0.000000   0.000000   0.000000   0.000000  ...   0.000000   \n50%     0.000000   0.000000   0.000000   0.000000   0.000000  ...   0.000000   \n75%     2.250000   1.000000   0.250000   2.500000   2.000000  ...   1.000000   \nmax     8.000000  10.000000   7.000000   8.000000   9.000000  ...   7.000000   \n\n             s25        s26        s27        s28  Age.at.Diagnosis  \\\ncount  60.000000  60.000000  60.000000  60.000000         64.000000   \nmean    1.083333   0.600000   0.966667   1.083333         58.922917   \nstd     2.309095   1.729113   2.154748   2.323729          9.627325   \nmin     0.000000   0.000000   0.000000   0.000000         41.102778   \n25%     0.000000   0.000000   0.000000   0.000000         51.953472   \n50%     0.000000   0.000000   0.000000   0.000000         56.491667   \n75%     0.250000   0.000000   0.000000   1.000000         64.416667   \nmax    10.000000  10.000000  10.000000  10.000000         76.594444   \n\n       Total.dose  Total.fractions  Treatment.duration  Dose.fraction  \ncount   64.000000        64.000000           64.000000      64.000000  \nmean    68.885625        32.875000           41.703125       2.104341  \nstd      2.173197         2.763136            3.388494       0.112044  \nmin     63.000000        30.000000           34.000000       1.800000  \n25%     66.000000        30.000000           38.750000       2.120000  \n50%     70.000000        33.000000           43.000000       2.121212  \n75%     70.000000        33.000000           44.000000       2.200000  \nmax     72.000000        40.000000           49.000000       2.200000  \n\n[8 rows x 35 columns]"
     },
     "execution_count": 7,
     "metadata": {},
     "output_type": "execute_result"
    }
   ],
   "source": [
    "import pandas as pd\n",
    "\n",
    "patients = pd.read_csv('datasets/patients.csv')\n",
    "symptoms = pd.read_csv('datasets/symptoms.csv')\n",
    "pd.merge(symptoms, patients, on='ID').describe()"
   ]
  }
 ],
 "metadata": {
  "file_extension": ".py",
  "kernelspec": {
   "display_name": "Python 3",
   "language": "python",
   "name": "python3"
  },
  "language_info": {
   "codemirror_mode": {
    "name": "ipython",
    "version": 3
   },
   "file_extension": ".py",
   "mimetype": "text/x-python",
   "name": "python",
   "nbconvert_exporter": "python",
   "pygments_lexer": "ipython3",
   "version": "3.7.4"
  },
  "mimetype": "text/x-python",
  "name": "python",
  "npconvert_exporter": "python",
  "pygments_lexer": "ipython3",
  "version": 3
 },
 "nbformat": 4,
 "nbformat_minor": 2
}